{
 "cells": [
  {
   "cell_type": "markdown",
   "metadata": {},
   "source": [
    "\n",
    "\n",
    "    SUMMARY:\n",
    "\n",
    "    To open a file, use the built-in open() function.\n",
    "\n",
    "The open() function returns a file object, which has a read() method for reading the content of the file:\n",
    "\n",
    "If the file is located in a different location, you will have to specify the file path, like this:\n",
    "f = open(\"D:\\\\myfiles\\welcome.txt\", \"r\")\n",
    "\n",
    "    read({optional} numberOfCharacters) - Reads the specified number of THE NEXT characters from the file. \n",
    "(By calling read(1) two times, you can read the two first chars)\n",
    "If the number of characters is not specified, the read() returns the entire file char by char. (list of char)\n",
    "\n",
    "    readline() - Reads and returns THE NEXT single line from the file. \n",
    "(By calling readline() two times, you can read the two first lines)\n",
    "\n",
    "    readlines() - Reads the entire file and returns a list of each line of the file. (Without the \\n)\n",
    "    close() - Closes the file.\n",
    "\n",
    "    tell() method returns the current file position in a file stream.\n",
    "\n",
    "f.close() #Note: You should always close your files, in some cases --> changes made to a file may not show until you close the file.\n"
   ]
  },
  {
   "cell_type": "markdown",
   "metadata": {},
   "source": [
    "    Ex 2    \n",
    "Escreva uma função le_ficheiro que leia um ficheiro de texto linha a\n",
    "linha e escreva o seu conteúdo no ecrã."
   ]
  },
  {
   "cell_type": "code",
   "execution_count": null,
   "metadata": {},
   "outputs": [
    {
     "name": "stdout",
     "output_type": "stream",
     "text": [
      "kiwi\n",
      "pera\n",
      "maÃ§a\n",
      "ananÃ¡s"
     ]
    }
   ],
   "source": [
    "# Loop through the file line by line:\n",
    "\n",
    "with open(\"Ficha1\\\\frutas.txt\", \"r\") as file:\n",
    "    for linha in file:\n",
    "        print(linha, end=\"\")\n",
    "\n",
    "file.close()\n"
   ]
  },
  {
   "cell_type": "markdown",
   "metadata": {},
   "source": [
    "    Ex 3\n",
    "Modifique a função da alínea anterior de forma a aparecer também o\n",
    "número de cada linha."
   ]
  },
  {
   "cell_type": "code",
   "execution_count": null,
   "metadata": {},
   "outputs": [],
   "source": [
    "# Loop through the file line by line:\n",
    "\n",
    "with open(\"Ficha1\\\\frutas.txt\", \"r\") as file:\n",
    "    for nLinha, linha in enumerate(file):\n",
    "        print(f\"{nLinha+1} - {linha}\", end=\"\")\n",
    "\n",
    "file.close()\n"
   ]
  },
  {
   "cell_type": "markdown",
   "metadata": {},
   "source": [
    "    Ex 4\n",
    "Escreva uma função escreve_ficheiro que peça ao utilizador várias\n",
    "linhas e as escreva num ficheiro. O programa termina quando o\n",
    "utilizador introduzir uma linha vazia.\n"
   ]
  },
  {
   "cell_type": "code",
   "execution_count": 3,
   "metadata": {},
   "outputs": [],
   "source": [
    "def escreve_ficheiro(nome_ficheiro):\n",
    "    with open(nome_ficheiro, \"w\") as file:\n",
    "        while True:\n",
    "            linha = input(\"Escreva uma linha: \")\n",
    "            if linha == \"\":\n",
    "                break\n",
    "            file.write(linha + \"\\n\")\n",
    "    file.close()\n",
    "\n",
    "escreve_ficheiro(\"FicheiroTeste.txt\")"
   ]
  },
  {
   "cell_type": "markdown",
   "metadata": {},
   "source": [
    "    EX 7\n",
    "Escreva uma função conta_linhas_caracteres que dado um nome\n",
    "de ficheiro, devolva um par com o número de linhas e o número de\n",
    "caracteres.\n"
   ]
  },
  {
   "cell_type": "code",
   "execution_count": 5,
   "metadata": {},
   "outputs": [
    {
     "data": {
      "text/plain": [
       "(3, 16)"
      ]
     },
     "execution_count": 5,
     "metadata": {},
     "output_type": "execute_result"
    }
   ],
   "source": [
    "def conta_linhas_caracteres(nomeFile):\n",
    "    with open(nomeFile, \"r\") as file:\n",
    "        numLinhas = 0\n",
    "        numCaracteres = 0\n",
    "        for linha in file:\n",
    "            numLinhas += 1\n",
    "            numCaracteres += len(linha)\n",
    "    return (numLinhas, numCaracteres)\n",
    "\n",
    "conta_linhas_caracteres(\"FicheiroTeste.txt\")"
   ]
  },
  {
   "cell_type": "markdown",
   "metadata": {},
   "source": [
    "    EX 8 \n",
    "Escreva uma função copia_ficheiro que dados dois nomes de ficheiros, faz uma cópia dos conteúdos de um ficheiro para o outro."
   ]
  },
  {
   "cell_type": "code",
   "execution_count": 6,
   "metadata": {},
   "outputs": [],
   "source": [
    "def copia_ficheiro(nomeFileOrigem, nomeFileDestino):\n",
    "    with open(nomeFileOrigem, \"r\") as fileOrigem, open(nomeFileDestino, \"w\") as fileDestino:\n",
    "        for linha in fileOrigem:\n",
    "            fileDestino.write(linha)\n",
    "    fileOrigem.close()\n",
    "    fileDestino.close()\n",
    "\n",
    "copia_ficheiro(\"FicheiroTeste.txt\", \"FicheiroTesteCopia.txt\")"
   ]
  },
  {
   "cell_type": "markdown",
   "metadata": {},
   "source": [
    "    Ex 10\n",
    "Escreva uma função lista_floats que dada uma lista de strings,\n",
    "cada uma representando um número, devolve uma outra lista com os\n",
    "números em vírgula flutuante correspondentes. Verifique que a função\n",
    "levanta a exceção ValueError quando pelo menos um elemento da\n",
    "lista não for convertível para float.\n"
   ]
  },
  {
   "cell_type": "code",
   "execution_count": 20,
   "metadata": {},
   "outputs": [
    {
     "name": "stdout",
     "output_type": "stream",
     "text": [
      "['3.14', '1', '-0.4']\n"
     ]
    },
    {
     "ename": "Exception",
     "evalue": "Não é um número",
     "output_type": "error",
     "traceback": [
      "\u001b[1;31m---------------------------------------------------------------------------\u001b[0m",
      "\u001b[1;31mValueError\u001b[0m                                Traceback (most recent call last)",
      "\u001b[1;32m<ipython-input-20-a52e16a9e7ae>\u001b[0m in \u001b[0;36mlista_floats\u001b[1;34m(numbers)\u001b[0m\n\u001b[0;32m      4\u001b[0m         \u001b[1;32mtry\u001b[0m\u001b[1;33m:\u001b[0m\u001b[1;33m\u001b[0m\u001b[1;33m\u001b[0m\u001b[0m\n\u001b[1;32m----> 5\u001b[1;33m             \u001b[0mfloat\u001b[0m\u001b[1;33m(\u001b[0m\u001b[0mnumber\u001b[0m\u001b[1;33m)\u001b[0m\u001b[1;33m\u001b[0m\u001b[1;33m\u001b[0m\u001b[0m\n\u001b[0m\u001b[0;32m      6\u001b[0m             \u001b[0mfloats\u001b[0m\u001b[1;33m.\u001b[0m\u001b[0mappend\u001b[0m\u001b[1;33m(\u001b[0m\u001b[0mnumber\u001b[0m\u001b[1;33m)\u001b[0m\u001b[1;33m\u001b[0m\u001b[1;33m\u001b[0m\u001b[0m\n",
      "\u001b[1;31mValueError\u001b[0m: could not convert string to float: 'UM'",
      "\nDuring handling of the above exception, another exception occurred:\n",
      "\u001b[1;31mException\u001b[0m                                 Traceback (most recent call last)",
      "\u001b[1;32m<ipython-input-20-a52e16a9e7ae>\u001b[0m in \u001b[0;36m<module>\u001b[1;34m\u001b[0m\n\u001b[0;32m     10\u001b[0m \u001b[1;33m\u001b[0m\u001b[0m\n\u001b[0;32m     11\u001b[0m \u001b[0mprint\u001b[0m\u001b[1;33m(\u001b[0m\u001b[0mlista_floats\u001b[0m\u001b[1;33m(\u001b[0m\u001b[1;33m[\u001b[0m\u001b[1;34m'3.14'\u001b[0m\u001b[1;33m,\u001b[0m \u001b[1;34m'1'\u001b[0m\u001b[1;33m,\u001b[0m \u001b[1;34m'-0.4'\u001b[0m\u001b[1;33m]\u001b[0m\u001b[1;33m)\u001b[0m\u001b[1;33m)\u001b[0m\u001b[1;33m\u001b[0m\u001b[1;33m\u001b[0m\u001b[0m\n\u001b[1;32m---> 12\u001b[1;33m \u001b[0mprint\u001b[0m\u001b[1;33m(\u001b[0m\u001b[0mlista_floats\u001b[0m\u001b[1;33m(\u001b[0m\u001b[1;33m[\u001b[0m\u001b[1;34m'3.14'\u001b[0m\u001b[1;33m,\u001b[0m \u001b[1;34m'UM'\u001b[0m\u001b[1;33m,\u001b[0m \u001b[1;34m'-0.4'\u001b[0m\u001b[1;33m]\u001b[0m\u001b[1;33m)\u001b[0m\u001b[1;33m)\u001b[0m\u001b[1;33m\u001b[0m\u001b[1;33m\u001b[0m\u001b[0m\n\u001b[0m",
      "\u001b[1;32m<ipython-input-20-a52e16a9e7ae>\u001b[0m in \u001b[0;36mlista_floats\u001b[1;34m(numbers)\u001b[0m\n\u001b[0;32m      6\u001b[0m             \u001b[0mfloats\u001b[0m\u001b[1;33m.\u001b[0m\u001b[0mappend\u001b[0m\u001b[1;33m(\u001b[0m\u001b[0mnumber\u001b[0m\u001b[1;33m)\u001b[0m\u001b[1;33m\u001b[0m\u001b[1;33m\u001b[0m\u001b[0m\n\u001b[0;32m      7\u001b[0m         \u001b[1;32mexcept\u001b[0m \u001b[0mValueError\u001b[0m\u001b[1;33m:\u001b[0m\u001b[1;33m\u001b[0m\u001b[1;33m\u001b[0m\u001b[0m\n\u001b[1;32m----> 8\u001b[1;33m             \u001b[1;32mraise\u001b[0m \u001b[0mException\u001b[0m\u001b[1;33m(\u001b[0m\u001b[1;34m\"Não é um número\"\u001b[0m\u001b[1;33m)\u001b[0m\u001b[1;33m\u001b[0m\u001b[1;33m\u001b[0m\u001b[0m\n\u001b[0m\u001b[0;32m      9\u001b[0m     \u001b[1;32mreturn\u001b[0m \u001b[0mfloats\u001b[0m\u001b[1;33m\u001b[0m\u001b[1;33m\u001b[0m\u001b[0m\n\u001b[0;32m     10\u001b[0m \u001b[1;33m\u001b[0m\u001b[0m\n",
      "\u001b[1;31mException\u001b[0m: Não é um número"
     ]
    }
   ],
   "source": [
    "def lista_floats(numbers):\n",
    "    floats = []\n",
    "    for number in numbers:\n",
    "        try:\n",
    "            float(number)\n",
    "            floats.append(number)\n",
    "        except ValueError:\n",
    "            raise Exception(\"Não é um número\")\n",
    "    return floats\n",
    "\n",
    "print(lista_floats(['3.14', '1', '-0.4']))\n",
    "print(lista_floats(['3.14', 'UM', '-0.4']))"
   ]
  }
 ],
 "metadata": {
  "interpreter": {
   "hash": "ad2bdc8ecc057115af97d19610ffacc2b4e99fae6737bb82f5d7fb13d2f2c186"
  },
  "kernelspec": {
   "display_name": "Python 3.8.8 ('base')",
   "language": "python",
   "name": "python3"
  },
  "language_info": {
   "codemirror_mode": {
    "name": "ipython",
    "version": 3
   },
   "file_extension": ".py",
   "mimetype": "text/x-python",
   "name": "python",
   "nbconvert_exporter": "python",
   "pygments_lexer": "ipython3",
   "version": "3.8.8"
  },
  "orig_nbformat": 4
 },
 "nbformat": 4,
 "nbformat_minor": 2
}
